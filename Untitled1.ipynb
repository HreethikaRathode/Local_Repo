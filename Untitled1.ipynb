{
  "nbformat": 4,
  "nbformat_minor": 0,
  "metadata": {
    "colab": {
      "provenance": [],
      "authorship_tag": "ABX9TyObIYUi7ANQgv0Mv8vKzQoy"
    },
    "kernelspec": {
      "name": "python3",
      "display_name": "Python 3"
    },
    "language_info": {
      "name": "python"
    }
  },
  "cells": [
    {
      "cell_type": "code",
      "execution_count": 2,
      "metadata": {
        "colab": {
          "base_uri": "https://localhost:8080/"
        },
        "id": "r2lR958xz6O-",
        "outputId": "3d385c3e-a85a-41ca-8150-4f3c83b8f479"
      },
      "outputs": [
        {
          "output_type": "execute_result",
          "data": {
            "text/plain": [
              "9765625"
            ]
          },
          "metadata": {},
          "execution_count": 2
        }
      ],
      "source": [
        "a=5\n",
        "b=10\n",
        "c= a**b\n",
        "c"
      ]
    },
    {
      "cell_type": "code",
      "source": [],
      "metadata": {
        "id": "q--K4Vgsz_F3"
      },
      "execution_count": null,
      "outputs": []
    }
  ]
}